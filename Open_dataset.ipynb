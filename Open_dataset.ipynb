{
 "cells": [
  {
   "cell_type": "code",
   "execution_count": 2,
   "id": "b0907a39",
   "metadata": {},
   "outputs": [],
   "source": [
    "## ABRIMOS EL DATASET\n",
    "\n",
    "import pickle\n",
    "import time\n",
    "from geopy.geocoders import Nominatim\n",
    "from geopy.distance import geodesic\n",
    "\n",
    "# Cargar el dataset \n",
    "with open(\"dataset_dhl.pkl\", \"rb\") as f:\n",
    "    data = pickle.load(f)\n"
   ]
  },
  {
   "cell_type": "code",
   "execution_count": 1,
   "id": "8c1ec617",
   "metadata": {},
   "outputs": [
    {
     "ename": "NameError",
     "evalue": "name 'Nominatim' is not defined",
     "output_type": "error",
     "traceback": [
      "\u001b[0;31m---------------------------------------------------------------------------\u001b[0m",
      "\u001b[0;31mNameError\u001b[0m                                 Traceback (most recent call last)",
      "Cell \u001b[0;32mIn[1], line 16\u001b[0m\n\u001b[1;32m      4\u001b[0m coordenadas_fijas \u001b[38;5;241m=\u001b[39m {\n\u001b[1;32m      5\u001b[0m     \u001b[38;5;124m\"\u001b[39m\u001b[38;5;124mAtlante - Atlante - Nieves Sant Esteve\u001b[39m\u001b[38;5;124m\"\u001b[39m: (\u001b[38;5;241m41.504070650751906\u001b[39m, \u001b[38;5;241m1.883253906745552\u001b[39m),\n\u001b[1;32m      6\u001b[0m     \u001b[38;5;124m\"\u001b[39m\u001b[38;5;124mAtlante - Nieves Zona Franca\u001b[39m\u001b[38;5;124m\"\u001b[39m:( \u001b[38;5;241m41.33194049366559\u001b[39m, \u001b[38;5;241m2.134952349708804\u001b[39m),\n\u001b[0;32m   (...)\u001b[0m\n\u001b[1;32m     12\u001b[0m     \u001b[38;5;124m\"\u001b[39m\u001b[38;5;124mDHL FREIGHT SPAIN S.L, C/ Atlantic 109-111  (ZAL)\u001b[39m\u001b[38;5;124m\"\u001b[39m: (\u001b[38;5;241m41.548266507563135\u001b[39m, \u001b[38;5;241m2.1687455645705684\u001b[39m)\n\u001b[1;32m     13\u001b[0m }\n\u001b[1;32m     15\u001b[0m \u001b[38;5;66;03m# Inicializar geolocalizador \u001b[39;00m\n\u001b[0;32m---> 16\u001b[0m geolocator \u001b[38;5;241m=\u001b[39m Nominatim(user_agent\u001b[38;5;241m=\u001b[39m\u001b[38;5;124m\"\u001b[39m\u001b[38;5;124mgeoapi\u001b[39m\u001b[38;5;124m\"\u001b[39m)\n\u001b[1;32m     18\u001b[0m \u001b[38;5;66;03m# Añadir coordenadas \u001b[39;00m\n\u001b[1;32m     19\u001b[0m \u001b[38;5;28;01mfor\u001b[39;00m d \u001b[38;5;129;01min\u001b[39;00m data:\n",
      "\u001b[0;31mNameError\u001b[0m: name 'Nominatim' is not defined"
     ]
    }
   ],
   "source": [
    "\n",
    "## AÑADIMOS LAS COORDENADAS ##\n",
    "\n",
    "# Metemos las coordenadas que ya conocemos (las que no podemos calcular con geopy)\n",
    "coordenadas_fijas = {\n",
    "    \"Atlante - Atlante - Nieves Sant Esteve\": (41.504070650751906, 1.883253906745552),\n",
    "    \"Atlante - Nieves Zona Franca\":( 41.33194049366559, 2.134952349708804),\n",
    "    \"IONITY Montcada i Reixac\": (41.491422605263075, 2.1823508377517684),\n",
    "    \"IONITY Barcera del Valles\": (41.51182358577195, 2.1345502627626303),\n",
    "    \"Ctra. Molins de Rei, 251, Km. 8, 08191 Rubí, Barcelona\": (41.46930679260032, 2.029808746545829),\n",
    "    \"Carrer Sakura, 16B, NAVE 16A, 08272 Sant Fruitós de Bages, Barcelona\": (41.77803590470732, 1.867141253552206),\n",
    "    \"Avinguda Can Montcau, 1-3-5, 08186 Lliçà d'Amunt, Barcelona\": (41.60289038509304, 2.2569771240231096),\n",
    "    \"DHL FREIGHT SPAIN S.L, C/ Atlantic 109-111  (ZAL)\": (41.548266507563135, 2.1687455645705684)\n",
    "}\n",
    "\n",
    "# Inicializar geolocalizador \n",
    "geolocator = Nominatim(user_agent=\"geoapi\")\n",
    "\n",
    "# Añadir coordenadas \n",
    "for d in data:\n",
    "    direccion = d.get(\"direccion\", \"\").strip()\n",
    "    nombre = d.get(\"nombre\", \"\").strip()\n",
    "\n",
    "    # Caso 1: coordenadas conocidas\n",
    "    if direccion in coordenadas_fijas:\n",
    "        d[\"coordenadas\"] = coordenadas_fijas[direccion]\n",
    "\n",
    "    elif nombre in coordenadas_fijas:\n",
    "        d[\"coordenadas\"] = coordenadas_fijas[nombre]\n",
    "\n",
    "    # Caso 2: intentar buscar con geopy\n",
    "    elif direccion:\n",
    "        try:\n",
    "            location = geolocator.geocode(direccion)\n",
    "            if location:\n",
    "                d[\"coordenadas\"] = (location.latitude, location.longitude)\n",
    "            else:\n",
    "                d[\"coordenadas\"] = None\n",
    "                print(f\"No se encontró la dirección: {nombre}\")\n",
    "        except Exception as e:\n",
    "            print(f\"Error al buscar {nombre}: {e}\")\n",
    "            d[\"coordenadas\"] = None\n",
    "        time.sleep(1)  # Evita bloqueo por exceso de peticiones\n",
    "\n",
    "    else:\n",
    "        d[\"coordenadas\"] = None\n",
    "        print(f\" No hay dirección para: {nombre}\")\n",
    "\n",
    "\n",
    "\n"
   ]
  },
  {
   "cell_type": "code",
   "execution_count": 5,
   "id": "6609a633",
   "metadata": {},
   "outputs": [
    {
     "name": "stdout",
     "output_type": "stream",
     "text": [
      "[0, 16.5, 36.87, 24.07, 24.27, 14.54, 5.92, 9.94, 12.98, 17.61, 12.83]\n",
      "[16.5, 0, 52.68, 36.42, 37.57, 27.64, 11.39, 22.8, 22.62, 8.48, 23.98]\n",
      "[36.87, 52.68, 0, 37.84, 35.24, 35.81, 41.3, 37.02, 41.27, 54.35, 30.46]\n",
      "[24.07, 36.42, 37.84, 0, 2.81, 9.54, 29.41, 14.37, 13.86, 31.77, 33.05]\n",
      "[24.27, 37.57, 35.24, 2.81, 0, 10.05, 29.85, 15.0, 15.3, 33.43, 32.3]\n",
      "[14.54, 27.64, 35.81, 9.54, 10.05, 0, 19.9, 4.95, 6.41, 24.19, 24.33]\n",
      "[5.92, 11.39, 41.3, 29.41, 29.85, 19.9, 0, 15.04, 17.02, 14.83, 13.6]\n",
      "[9.94, 22.8, 37.02, 14.37, 15.0, 4.95, 15.04, 0, 4.59, 19.98, 21.0]\n",
      "[12.98, 22.62, 41.27, 13.86, 15.3, 6.41, 17.02, 4.59, 0, 18.15, 25.01]\n",
      "[17.61, 8.48, 54.35, 31.77, 33.43, 24.19, 14.83, 19.98, 18.15, 0, 28.43]\n",
      "[12.83, 23.98, 30.46, 33.05, 32.3, 24.33, 13.6, 21.0, 25.01, 28.43, 0]\n"
     ]
    }
   ],
   "source": [
    "## MATRIZ DE DISTANCIAS \n",
    "n = len(data)\n",
    "distancias = [[0]*n for _ in range(n)]\n",
    "\n",
    "for i in range(n):\n",
    "    for j in range(n):\n",
    "        if i != j and data[i][\"coordenadas\"] and data[j][\"coordenadas\"]:\n",
    "            dist = geodesic(data[i][\"coordenadas\"], data[j][\"coordenadas\"]).km\n",
    "            distancias[i][j] = round(dist, 2)\n",
    "        else:\n",
    "            distancias[i][j] = None if i != j else 0\n",
    "\n",
    "\n",
    "#Mostrar matriz\n",
    "for fila in distancias:\n",
    "    print(fila)"
   ]
  },
  {
   "cell_type": "code",
   "execution_count": 6,
   "id": "9d2c5aad",
   "metadata": {},
   "outputs": [
    {
     "name": "stdout",
     "output_type": "stream",
     "text": [
      "[0.0, 14.142857142857142, 31.60285714285714, 20.63142857142857, 20.802857142857142, 12.462857142857143, 5.074285714285715, 8.52, 11.125714285714286, 15.094285714285714, 10.997142857142856]\n",
      "[14.142857142857142, 0.0, 45.15428571428571, 31.21714285714286, 32.20285714285714, 23.69142857142857, 9.762857142857143, 19.542857142857144, 19.38857142857143, 7.268571428571429, 20.554285714285715]\n",
      "[31.60285714285714, 45.15428571428571, 0.0, 32.434285714285714, 30.205714285714286, 30.694285714285712, 35.4, 31.731428571428573, 35.37428571428572, 46.58571428571429, 26.10857142857143]\n",
      "[20.63142857142857, 31.21714285714286, 32.434285714285714, 0.0, 2.408571428571429, 8.177142857142856, 25.208571428571428, 12.317142857142857, 11.879999999999999, 27.23142857142857, 28.328571428571426]\n",
      "[20.802857142857142, 32.20285714285714, 30.205714285714286, 2.408571428571429, 0.0, 8.614285714285714, 25.585714285714285, 12.857142857142856, 13.114285714285716, 28.654285714285717, 27.685714285714283]\n",
      "[12.462857142857143, 23.69142857142857, 30.694285714285712, 8.177142857142856, 8.614285714285714, 0.0, 17.057142857142857, 4.242857142857143, 5.494285714285714, 20.734285714285715, 20.854285714285712]\n",
      "[5.074285714285715, 9.762857142857143, 35.4, 25.208571428571428, 25.585714285714285, 17.057142857142857, 0.0, 12.891428571428571, 14.588571428571427, 12.711428571428572, 11.657142857142857]\n",
      "[8.52, 19.542857142857144, 31.731428571428573, 12.317142857142857, 12.857142857142856, 4.242857142857143, 12.891428571428571, 0.0, 3.934285714285714, 17.125714285714285, 18.0]\n",
      "[11.125714285714286, 19.38857142857143, 35.37428571428572, 11.879999999999999, 13.114285714285716, 5.494285714285714, 14.588571428571427, 3.934285714285714, 0.0, 15.557142857142857, 21.43714285714286]\n",
      "[15.094285714285714, 7.268571428571429, 46.58571428571429, 27.23142857142857, 28.654285714285717, 20.734285714285715, 12.711428571428572, 17.125714285714285, 15.557142857142857, 0.0, 24.36857142857143]\n",
      "[10.997142857142856, 20.554285714285715, 26.10857142857143, 28.328571428571426, 27.685714285714283, 20.854285714285712, 11.657142857142857, 18.0, 21.43714285714286, 24.36857142857143, 0.0]\n"
     ]
    }
   ],
   "source": [
    "## MATRIZ DE TIEMPOS (d):\n",
    "# Vamos a suponer que el camion va a una velocidad media de 70km/h\n",
    "tiempos = [[0]*n for _ in range(n)]\n",
    "velocidad=70\n",
    "for i in range(len(distancias)):\n",
    "    for j in range(len(distancias)):\n",
    "        tiempos[i][j]=distancias[i][j]/70*60 # en minutos\n",
    "for filas in tiempos:\n",
    "    print(filas)  "
   ]
  },
  {
   "cell_type": "code",
   "execution_count": 2,
   "id": "3a69b97c",
   "metadata": {},
   "outputs": [
    {
     "ename": "NameError",
     "evalue": "name 'data' is not defined",
     "output_type": "error",
     "traceback": [
      "\u001b[0;31m---------------------------------------------------------------------------\u001b[0m",
      "\u001b[0;31mNameError\u001b[0m                                 Traceback (most recent call last)",
      "Cell \u001b[0;32mIn[2], line 8\u001b[0m\n\u001b[1;32m      4\u001b[0m precio_atlante \u001b[38;5;241m=\u001b[39m \u001b[38;5;241m0.64\u001b[39m\n\u001b[1;32m      5\u001b[0m kwh \u001b[38;5;241m=\u001b[39m \u001b[38;5;241m300\u001b[39m\n\u001b[0;32m----> 8\u001b[0m \u001b[38;5;28;01mfor\u001b[39;00m d \u001b[38;5;129;01min\u001b[39;00m data:\n\u001b[1;32m      9\u001b[0m     \u001b[38;5;28;01mif\u001b[39;00m re\u001b[38;5;241m.\u001b[39msearch(\u001b[38;5;124m\"\u001b[39m\u001b[38;5;124mIONITY\u001b[39m\u001b[38;5;124m\"\u001b[39m,d[\u001b[38;5;124m\"\u001b[39m\u001b[38;5;124mnombre\u001b[39m\u001b[38;5;124m\"\u001b[39m]):\n\u001b[1;32m     10\u001b[0m         d[\u001b[38;5;124m\"\u001b[39m\u001b[38;5;124mw\u001b[39m\u001b[38;5;124m\"\u001b[39m]\u001b[38;5;241m=\u001b[39mkwh\u001b[38;5;241m*\u001b[39mprecio_ionity\n",
      "\u001b[0;31mNameError\u001b[0m: name 'data' is not defined"
     ]
    }
   ],
   "source": [
    "## VECTOR DE PRECIO CARGA (w)\n",
    "import re\n",
    "precio_ionity = 0.61\n",
    "precio_atlante = 0.64\n",
    "kwh = 300\n",
    "\n",
    "\n",
    "for d in data:\n",
    "    if re.search(\"IONITY\",d[\"nombre\"]):\n",
    "        d[\"w\"]=kwh*precio_ionity\n",
    "    elif re.search(\"Atlante\",d[\"nombre\"]):\n",
    "         d[\"w\"]=kwh*precio_atlante\n",
    "    else:\n",
    "         d[\"w\"]=0\n",
    "       \n"
   ]
  },
  {
   "cell_type": "code",
   "execution_count": 8,
   "id": "816254d6",
   "metadata": {},
   "outputs": [
    {
     "name": "stdout",
     "output_type": "stream",
     "text": [
      "[[0.0, 6.6000000000000005, 14.748, 9.628, 9.708, 5.816, 2.368, 3.976, 5.192, 7.0440000000000005, 5.132000000000001], [6.6000000000000005, 0.0, 21.072000000000003, 14.568000000000001, 15.028, 11.056000000000001, 4.556, 9.120000000000001, 9.048, 3.3920000000000003, 9.592], [14.748, 21.072000000000003, 0.0, 15.136000000000003, 14.096000000000002, 14.324000000000002, 16.52, 14.808000000000002, 16.508000000000003, 21.740000000000002, 12.184000000000001], [9.628, 14.568000000000001, 15.136000000000003, 0.0, 1.124, 3.816, 11.764000000000001, 5.748, 5.5440000000000005, 12.708, 13.219999999999999], [9.708, 15.028, 14.096000000000002, 1.124, 0.0, 4.0200000000000005, 11.940000000000001, 6.0, 6.120000000000001, 13.372, 12.92], [5.816, 11.056000000000001, 14.324000000000002, 3.816, 4.0200000000000005, 0.0, 7.96, 1.9800000000000002, 2.564, 9.676000000000002, 9.732], [2.368, 4.556, 16.52, 11.764000000000001, 11.940000000000001, 7.96, 0.0, 6.016, 6.808, 5.932, 5.44], [3.976, 9.120000000000001, 14.808000000000002, 5.748, 6.0, 1.9800000000000002, 6.016, 0.0, 1.836, 7.992000000000001, 8.4], [5.192, 9.048, 16.508000000000003, 5.5440000000000005, 6.120000000000001, 2.564, 6.808, 1.836, 0.0, 7.26, 10.004000000000001], [7.0440000000000005, 3.3920000000000003, 21.740000000000002, 12.708, 13.372, 9.676000000000002, 5.932, 7.992000000000001, 7.26, 0.0, 11.372], [5.132000000000001, 9.592, 12.184000000000001, 13.219999999999999, 12.92, 9.732, 5.44, 8.4, 10.004000000000001, 11.372, 0.0]]\n"
     ]
    }
   ],
   "source": [
    "# MATRIZ DE COSTES (cij)\n",
    "# cij=dist*precio\n",
    "precio=0.4\n",
    "c=[[0]*len(data) for _ in range(len(data))]\n",
    "for i in range(len(data)):\n",
    "    for j in range(len(data)):\n",
    "        c[i][j]=distancias[i][j]*0.4\n",
    "print(c)\n"
   ]
  },
  {
   "cell_type": "code",
   "execution_count": 16,
   "id": "78f379ad",
   "metadata": {},
   "outputs": [],
   "source": [
    "## CREAR NUEVO DATA SET\n",
    "dataset_actualizado = {\n",
    "    \"data\": data,\n",
    "    \"distancias\": distancias, \n",
    "    \"tiempos\": tiempos,\n",
    "    \"costes\":c\n",
    "}\n",
    "\n",
    "with open(\"dataset_actualizado.pkl\", \"wb\") as f:\n",
    "    pickle.dump(dataset_actualizado, f)\n",
    "\n"
   ]
  }
 ],
 "metadata": {
  "kernelspec": {
   "display_name": "base",
   "language": "python",
   "name": "python3"
  },
  "language_info": {
   "codemirror_mode": {
    "name": "ipython",
    "version": 3
   },
   "file_extension": ".py",
   "mimetype": "text/x-python",
   "name": "python",
   "nbconvert_exporter": "python",
   "pygments_lexer": "ipython3",
   "version": "3.13.5"
  }
 },
 "nbformat": 4,
 "nbformat_minor": 5
}

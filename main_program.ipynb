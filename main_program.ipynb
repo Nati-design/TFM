{
 "cells": [
  {
   "cell_type": "code",
   "execution_count": 1,
   "id": "a9a83612",
   "metadata": {},
   "outputs": [],
   "source": [
    "## ABRIR DATASET ACTUALIZADO\n",
    "import pickle\n",
    "\n",
    "with open(\"dataset_actualizado.pkl\", \"rb\") as f:\n",
    "    datos = pickle.load(f)\n",
    "\n",
    "#print(datos);print(datos.keys());print(datos[\"data\"]);print(datos[\"distancias\"]);print(datos[\"tiempos\"]);print(datos[\"costes\"])\n"
   ]
  },
  {
   "cell_type": "code",
   "execution_count": 7,
   "id": "62a346b7",
   "metadata": {},
   "outputs": [
    {
     "name": "stdout",
     "output_type": "stream",
     "text": [
      "[0, 1, 2, 3, 4, 5, 6, 7, 8, 9, 10, -1]\n",
      "[1, 2, 3, 4]\n",
      "[6, 7, 8, 9, 10]\n",
      "0\n",
      "5\n",
      "-1\n"
     ]
    }
   ],
   "source": [
    "## CREAR EL CONJUNTO DE NODOS ##\n",
    "base_operativa_ficticia=-1\n",
    "N = [i for i,d in enumerate(datos[\"data\"]) if d['nodo']==\"carga\"]\n",
    "F = [i for i,d in enumerate(datos[\"data\"]) if d['nodo']==\"cargador\"]\n",
    "V = list(range(len(datos[\"data\"])))+[base_operativa_ficticia]\n",
    "base_operativa = [i for i,d in enumerate(datos[\"data\"]) if d['nodo']==\"parking\"][0]\n",
    "descarga = [i for i,d in enumerate(datos[\"data\"]) if d['nodo']==\"descarga\"][0]\n",
    "\n",
    "print(V);print(N);print(F);print(base_operativa);print(descarga);print(base_operativa_ficticia)\n"
   ]
  },
  {
   "cell_type": "code",
   "execution_count": 3,
   "id": "98f6a067",
   "metadata": {},
   "outputs": [],
   "source": [
    "# M-GRANDE \n",
    "M = 1000"
   ]
  },
  {
   "cell_type": "code",
   "execution_count": 4,
   "id": "1611f5a9",
   "metadata": {},
   "outputs": [],
   "source": [
    "# CREACIÓN DE ARRAYS\n",
    "import numpy as np\n",
    "c_0 = np.array(datos[\"costes\"])\n",
    "w_0 = np.array([d[\"w\"] for d in datos[\"data\"]])\n",
    "tiempos_0 = np.array(datos[\"tiempos\"])"
   ]
  },
  {
   "cell_type": "code",
   "execution_count": 5,
   "id": "20ce35b4",
   "metadata": {},
   "outputs": [],
   "source": [
    "# AÑADIR EL INDICE -1 (BASE OPERATIVA FICTICIA)\n",
    "\n",
    "#c\n",
    "fila_nueva_c = c_0[0, :].reshape(1, -1)\n",
    "c = np.vstack((c_0, fila_nueva_c))\n",
    "columna_nueva_c = c[:, 0].reshape(-1, 1)\n",
    "c = np.hstack((c, columna_nueva_c))\n",
    "\n",
    "#w\n",
    "w=np.append(w_0,0)\n",
    "\n",
    "#tiempos\n",
    "fila_nueva_t = tiempos_0[0, :].reshape(1, -1)\n",
    "tiempos = np.vstack((tiempos_0, fila_nueva_t))\n",
    "columna_nueva_t = tiempos[:, 0].reshape(-1, 1)\n",
    "tiempos = np.hstack((tiempos, columna_nueva_t))\n"
   ]
  },
  {
   "cell_type": "code",
   "execution_count": 17,
   "id": "ecab5c91",
   "metadata": {},
   "outputs": [
    {
     "data": {
      "text/plain": [
       "np.float64(59.30571428571429)"
      ]
     },
     "execution_count": 17,
     "metadata": {},
     "output_type": "execute_result"
    }
   ],
   "source": [
    "#tiempos[5,-1]\n",
    "tiempos[0,1]+tiempos[1,6]+tiempos[6,2]\n"
   ]
  },
  {
   "cell_type": "code",
   "execution_count": 10,
   "id": "b09a2925",
   "metadata": {},
   "outputs": [
    {
     "name": "stdout",
     "output_type": "stream",
     "text": [
      "Gurobi Optimizer version 12.0.3 build v12.0.3rc0 (mac64[x86] - Darwin 21.6.0 21H1123)\n",
      "\n",
      "CPU model: Intel(R) Core(TM) i5-5350U CPU @ 1.80GHz\n",
      "Thread count: 2 physical cores, 4 logical processors, using up to 4 threads\n",
      "\n",
      "Optimize a model with 205 rows, 161 columns and 824 nonzeros\n",
      "Model fingerprint: 0x56d8978e\n",
      "Variable types: 12 continuous, 149 integer (149 binary)\n",
      "Coefficient statistics:\n",
      "  Matrix range     [1e+00, 1e+03]\n",
      "  Objective range  [1e+00, 2e+02]\n",
      "  Bounds range     [1e+00, 9e+02]\n",
      "  RHS range        [1e+00, 1e+03]\n",
      "Presolve removed 56 rows and 40 columns\n",
      "Presolve time: 0.01s\n",
      "Presolved: 149 rows, 121 columns, 1102 nonzeros\n",
      "Variable types: 10 continuous, 111 integer (111 binary)\n",
      "Found heuristic solution: objective 989.8520000\n",
      "\n",
      "Root relaxation: objective 5.373415e+01, 68 iterations, 0.00 seconds (0.00 work units)\n",
      "\n",
      "    Nodes    |    Current Node    |     Objective Bounds      |     Work\n",
      " Expl Unexpl |  Obj  Depth IntInf | Incumbent    BestBd   Gap | It/Node Time\n",
      "\n",
      "     0     0   53.73415    0    8  989.85200   53.73415  94.6%     -    0s\n",
      "H    0     0                     239.8520000   53.73415  77.6%     -    0s\n"
     ]
    },
    {
     "name": "stdout",
     "output_type": "stream",
     "text": [
      "     0     0   61.97600    0   14  239.85200   61.97600  74.2%     -    0s\n",
      "     0     0   61.97600    0   14  239.85200   61.97600  74.2%     -    0s\n",
      "     0     0   61.98099    0   14  239.85200   61.98099  74.2%     -    0s\n",
      "     0     0   61.98099    0   14  239.85200   61.98099  74.2%     -    0s\n",
      "     0     0   62.63200    0    8  239.85200   62.63200  73.9%     -    0s\n",
      "     0     0   62.63200    0    8  239.85200   62.63200  73.9%     -    0s\n",
      "     0     0   62.63200    0    8  239.85200   62.63200  73.9%     -    0s\n",
      "     0     0   62.63200    0    8  239.85200   62.63200  73.9%     -    0s\n",
      "     0     0   62.63200    0    8  239.85200   62.63200  73.9%     -    0s\n",
      "     0     0   62.63200    0    8  239.85200   62.63200  73.9%     -    0s\n",
      "     0     2   63.75800    0    8  239.85200   63.75800  73.4%     -    0s\n",
      "*   36    11               6     235.8480000   64.13200  72.8%  10.7    1s\n",
      "*   58     0               8     235.5280000  232.02400  1.49%  11.7    1s\n",
      "\n",
      "Cutting planes:\n",
      "  Learned: 5\n",
      "  Gomory: 3\n",
      "  Cover: 1\n",
      "  Implied bound: 2\n",
      "  MIR: 8\n",
      "  RLT: 2\n",
      "\n",
      "Explored 62 nodes (853 simplex iterations) in 1.54 seconds (0.04 work units)\n",
      "Thread count was 4 (of 4 available processors)\n",
      "\n",
      "Solution count 4: 235.528 235.848 239.852 989.852 \n",
      "\n",
      "Optimal solution found (tolerance 1.00e-04)\n",
      "Best objective 2.355280000000e+02, best bound 2.355280000000e+02, gap 0.0000%\n",
      "Funcion objetivo 235.52800000000002\n",
      "x[0,1]=1.00\n",
      "x[1,6]=1.00\n",
      "x[2,4]=1.00\n",
      "x[3,5]=1.00\n",
      "x[4,3]=1.00\n",
      "x[5,-1]=1.00\n",
      "x[6,2]=1.00\n",
      "z[6]=1.00\n",
      "t[1]=14.14\n",
      "t[2]=59.31\n",
      "t[3]=91.92\n",
      "t[4]=89.51\n",
      "t[5]=100.10\n",
      "t[6]=23.91\n",
      "t[-1]=900.00\n"
     ]
    }
   ],
   "source": [
    "## PROGRAMA PRINCIPAL\n",
    "import gurobipy as gp\n",
    "from gurobipy import GRB\n",
    "\n",
    "# Creamos el modelo\n",
    "m = gp.Model(\"problema1\")\n",
    "\n",
    "# Creamos las variables\n",
    "x = m.addVars(V,V, vtype=GRB.BINARY, name=\"x\")\n",
    "z = m.addVars(F, vtype=GRB.BINARY, name=\"z\")\n",
    "t = m.addVars(V, lb=0.0, ub= 15*60, vtype=GRB.CONTINUOUS, name=\"t\")\n",
    "m.update()\n",
    "\n",
    "# Definimos la función objetivo\n",
    "obj = gp.quicksum(c[i, j] * x[i, j] for i in V for j in V if i != j) + gp.quicksum(w[i] * z[i] for i in F)\n",
    "m.setObjective(obj, GRB.MINIMIZE)\n",
    "\n",
    "# Definimos las restricciones\n",
    "# r0: Inicializamos el tiempo, base operativa = 0\n",
    "m.addConstr(t[base_operativa] == 0, name=\"r0\")\n",
    "# r1\n",
    "for i in V:\n",
    "    if i not in F and i!= base_operativa_ficticia:\n",
    "        m.addConstr(gp.quicksum(x[i, j] for j in V if j != i) == 1, name=f\"r1_{i}\")\n",
    "# r2\n",
    "for j in V:\n",
    "    if j not in [base_operativa_ficticia, base_operativa]:\n",
    "        m.addConstr(gp.quicksum(x[i,j] for i in V if i!=j)-gp.quicksum(x[j,h] for h in V if h!=j)==0, name=f\"r2_{j}\")\n",
    "# r3\n",
    "m.addConstr(gp.quicksum(x[base_operativa,j] for j in V if j not in [base_operativa, base_operativa_ficticia])==1, name=\"r3\")\n",
    "# r4\n",
    "m.addConstr(gp.quicksum(x[i,base_operativa_ficticia] for i in V if i not in [base_operativa, base_operativa_ficticia])==1, name=\"r4\")\n",
    "# r5\n",
    "m.addConstr(gp.quicksum(x[descarga, i] for i in N)==0, name=\"r5\")\n",
    "# r6\n",
    "for j in V:\n",
    "    m.addConstr(x[base_operativa_ficticia, j] == 0, name=f\"r6_{j}\")\n",
    "# r7\n",
    "for i in V:\n",
    "    for j in V:\n",
    "        if i!=j:\n",
    "            m.addConstr(t[i]+tiempos[i,j]-t[j]<=M*(1-x[i,j]), name=f\"r7_{i}_{j}\")     \n",
    "# r8\n",
    "m.addConstr(gp.quicksum(x[i,j] for i in (N+[base_operativa]) for j in F if i!=j)==1, name=\"r8\")\n",
    "# r9\n",
    "for i in F:\n",
    "    for j in N:\n",
    "        if i!=j:\n",
    "            m.addConstr(x[i,j]<= z[i], name=f\"r9_{i}_{j}\")        \n",
    "# r10\n",
    "for i in N:\n",
    "    for j in F:\n",
    "        if i!=j:\n",
    "            m.addConstr(x[i,j]<= z[j], name=f\"r10_{i}_{j}\") \n",
    "\n",
    "m.update()\n",
    "m.optimize()\n",
    "a= m.ObjVal\n",
    "print(\"Funcion objetivo\", a)\n",
    "eps = 1e-6\n",
    "for v in m.getVars():\n",
    "    val = v.x\n",
    "    if val is None:\n",
    "        continue\n",
    "    if abs(val) > eps:\n",
    "        print(f\"{v.VarName}={val:.2f}\")"
   ]
  }
 ],
 "metadata": {
  "kernelspec": {
   "display_name": "base",
   "language": "python",
   "name": "python3"
  },
  "language_info": {
   "codemirror_mode": {
    "name": "ipython",
    "version": 3
   },
   "file_extension": ".py",
   "mimetype": "text/x-python",
   "name": "python",
   "nbconvert_exporter": "python",
   "pygments_lexer": "ipython3",
   "version": "3.13.5"
  }
 },
 "nbformat": 4,
 "nbformat_minor": 5
}

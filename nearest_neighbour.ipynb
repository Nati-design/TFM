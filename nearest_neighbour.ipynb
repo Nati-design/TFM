{
 "cells": [
  {
   "cell_type": "code",
   "execution_count": null,
   "id": "cf507962",
   "metadata": {},
   "outputs": [],
   "source": [
    "## ALGORITMO VECINO MÁS PRÓXIMO ##\n",
    "## Datos obtenidos con \"Open_dataset.ipynb\" ##"
   ]
  },
  {
   "cell_type": "code",
   "execution_count": 1,
   "id": "33587d60",
   "metadata": {},
   "outputs": [],
   "source": [
    "## ABRIR DATASET ACTUALIZADO\n",
    "import pickle\n",
    "\n",
    "with open(\"dataset_actualizado.pkl\", \"rb\") as f:\n",
    "    datos = pickle.load(f)\n",
    "\n",
    "#print(datos);print(datos.keys());print(datos[\"data\"]);print(datos[\"distancias\"]);print(datos[\"tiempos\"]);print(datos[\"costes\"])\n"
   ]
  },
  {
   "cell_type": "code",
   "execution_count": 2,
   "id": "9bf2fbc6",
   "metadata": {},
   "outputs": [
    {
     "name": "stdout",
     "output_type": "stream",
     "text": [
      "[0, 1, 2, 3, 4, 5, 6, 7, 8, 9, 10, -1]\n",
      "[1, 2, 3, 4]\n",
      "[6, 7, 8, 9, 10]\n",
      "0\n",
      "5\n",
      "-1\n"
     ]
    }
   ],
   "source": [
    "## CREAR EL CONJUNTO DE NODOS ##\n",
    "base_operativa_ficticia=-1\n",
    "N = [i for i,d in enumerate(datos[\"data\"]) if d['nodo']==\"carga\"] # nodos de carga\n",
    "F = [i for i,d in enumerate(datos[\"data\"]) if d['nodo']==\"cargador\"] # nodos cargador\n",
    "V = list(range(len(datos[\"data\"])))+[base_operativa_ficticia] # Nodos totales\n",
    "base_operativa = [i for i,d in enumerate(datos[\"data\"]) if d['nodo']==\"parking\"][0] \n",
    "descarga = [i for i,d in enumerate(datos[\"data\"]) if d['nodo']==\"descarga\"][0] \n",
    "\n",
    "print(V);print(N);print(F);print(base_operativa);print(descarga);print(base_operativa_ficticia)\n"
   ]
  },
  {
   "cell_type": "code",
   "execution_count": null,
   "id": "e816ada1",
   "metadata": {},
   "outputs": [
    {
     "name": "stdout",
     "output_type": "stream",
     "text": [
      "[  0.   0.   0.   0.   0.   0. 183. 183. 183. 192. 192.]\n"
     ]
    }
   ],
   "source": [
    "# CREACIÓN DE ARRAYS\n",
    "import numpy as np\n",
    "c = np.array(datos[\"costes\"])\n",
    "w = np.array([d[\"w\"] for d in datos[\"data\"]])\n",
    "tiempos = np.array(datos[\"tiempos\"])\n",
    "distancias=np.array(datos[\"distancias\"])"
   ]
  },
  {
   "cell_type": "code",
   "execution_count": null,
   "id": "c69af530",
   "metadata": {},
   "outputs": [
    {
     "name": "stdout",
     "output_type": "stream",
     "text": [
      "Ruta: [0, 6, 1, 3, 4, 2, 5, 0]\n",
      "Coste de la distancia recorrida: 56.852000000000004\n"
     ]
    }
   ],
   "source": [
    "# ALGORITMO DEL VECINO MÁS PRÓXIMO \n",
    "no_visitados = N.copy()+ F.copy()\n",
    "cargadores= F.copy()  \n",
    "ruta = [base_operativa] # La ruta comienza en la base operativa\n",
    "posicion = base_operativa # Posición actual del vehículo\n",
    "coste_total = 0\n",
    "costes= c.copy()\n",
    "\n",
    "while no_visitados:\n",
    "    costes_posibles = {c: costes[posicion][c] for c in no_visitados}\n",
    "    if not costes_posibles:\n",
    "        break \n",
    "\n",
    "    # Encontrar el coste mínima\n",
    "    cost = min(costes_posibles.values())\n",
    "    siguiente = min(costes_posibles, key=costes_posibles.get)\n",
    "\n",
    "    # Si se selecciona un cargador, no se visitan más cargadores\n",
    "    if siguiente in cargadores:\n",
    "        no_visitados= [c for c in no_visitados if c not in cargadores]\n",
    "    else: \n",
    "          no_visitados.remove(siguiente)\n",
    "\n",
    "    # Actualizar la ruta\n",
    "    coste_total += cost\n",
    "    ruta.append(siguiente)\n",
    "\n",
    "    \n",
    "    # Actualizar la posición\n",
    "    posicion = siguiente\n",
    "\n",
    "# Ir a la descarga y volver a la base operativa\n",
    "ruta.append(descarga)\n",
    "coste_total += costes[posicion][descarga] \n",
    "ruta.append(base_operativa)\n",
    "coste_total += costes[descarga][base_operativa] \n",
    "print(\"Ruta:\",ruta) \n",
    "print(\"Coste de la distancia recorrida:\", coste_total)"
   ]
  }
 ],
 "metadata": {
  "kernelspec": {
   "display_name": "base",
   "language": "python",
   "name": "python3"
  },
  "language_info": {
   "codemirror_mode": {
    "name": "ipython",
    "version": 3
   },
   "file_extension": ".py",
   "mimetype": "text/x-python",
   "name": "python",
   "nbconvert_exporter": "python",
   "pygments_lexer": "ipython3",
   "version": "3.13.5"
  }
 },
 "nbformat": 4,
 "nbformat_minor": 5
}

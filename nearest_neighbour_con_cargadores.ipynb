{
 "cells": [
  {
   "cell_type": "code",
   "execution_count": 1,
   "id": "cf507962",
   "metadata": {},
   "outputs": [],
   "source": [
    "## ALGORITMO VECINO MÁS PRÓXIMO ##\n",
    "## Datos obtenidos con \"Open_dataset.ipynb\" ##"
   ]
  },
  {
   "cell_type": "code",
   "execution_count": 25,
   "id": "33587d60",
   "metadata": {},
   "outputs": [
    {
     "name": "stdout",
     "output_type": "stream",
     "text": [
      "[{'nodo': 'parking', 'nombre': 'ES08191 Rubi', 'direccion': 'Ctra. Molins de Rei, 251, Km. 8, 08191 Rubí, Barcelona', 'coordenadas': (41.46930679260032, 2.029808746545829), 'w': 0}, {'nodo': 'carga', 'nombre': 'ES08840 Viladecans', 'direccion': 'Av. del Segle XXI, 63, 08840 Viladecans, Barcelona', 'coordenadas': (41.3195106, 2.031565), 'w': 0}, {'nodo': 'carga', 'nombre': 'ES08272 Sant Fruitós de Bages', 'direccion': 'Carrer Sakura, 16B, NAVE 16A, 08272 Sant Fruitós de Bages, Barcelona', 'coordenadas': (41.77803590470732, 1.867141253552206), 'w': 0}, {'nodo': 'carga', 'nombre': 'ES08650 Sallent', 'direccion': \"Avinguda Can Montcau, 1-3-5, 08186 Lliçà d'Amunt, Barcelona\", 'coordenadas': (41.60289038509304, 2.2569771240231096), 'w': 0}, {'nodo': 'carga', 'nombre': 'ES08186 Lliça de Amunt', 'direccion': \"Carrer d'Anselm Clavé, 62 AB, 08186 Lliçà d'Amunt, Barcelona\", 'coordenadas': (41.6161686, 2.2373753), 'w': 0}, {'nodo': 'descarga', 'nombre': 'ES08040 Barcelona', 'direccion': 'DHL FREIGHT SPAIN S.L, C/ Atlantic 109-111  (ZAL)', 'coordenadas': (41.548266507563135, 2.1687455645705684), 'w': 0}, {'nodo': 'cargador', 'nombre': 'IONITY Palleja', 'direccion': 'Ronda de Santa Eulàlia, 31, 08780 Pallejà, Barcelona', 'coordenadas': (41.4202499, 2.0019645), 'w': 183.0}, {'nodo': 'cargador', 'nombre': 'IONITY Barcera del Valles', 'direccion': '', 'coordenadas': (41.51182358577195, 2.1345502627626303), 'w': 183.0}, {'nodo': 'cargador', 'nombre': 'IONITY Montcada i Reixac', 'direccion': '', 'coordenadas': (41.491422605263075, 2.1823508377517684), 'w': 183.0}, {'nodo': 'cargador', 'nombre': 'Atlante - Nieves Zona Franca', 'direccion': '', 'coordenadas': (41.33194049366559, 2.134952349708804), 'w': 192.0}, {'nodo': 'cargador', 'nombre': 'Atlante - Atlante - Nieves Sant Esteve', 'direccion': '', 'coordenadas': (41.504070650751906, 1.883253906745552), 'w': 192.0}]\n"
     ]
    }
   ],
   "source": [
    "## ABRIR DATASET ACTUALIZADO\n",
    "import pickle\n",
    "\n",
    "with open(\"dataset_actualizado.pkl\", \"rb\") as f:\n",
    "    datos = pickle.load(f)\n",
    "\n",
    "#print(datos);print(datos.keys());print(datos[\"data\"]);print(datos[\"distancias\"]);print(datos[\"tiempos\"]);print(datos[\"costes\"])\n",
    "print(datos[\"data\"])\n"
   ]
  },
  {
   "cell_type": "code",
   "execution_count": 26,
   "id": "9bf2fbc6",
   "metadata": {},
   "outputs": [
    {
     "name": "stdout",
     "output_type": "stream",
     "text": [
      "[0, 1, 2, 3, 4, 5, 6, 7, 8, 9, 10, -1]\n",
      "[1, 2, 3, 4]\n",
      "[6, 7, 8, 9, 10]\n",
      "0\n",
      "5\n",
      "-1\n"
     ]
    }
   ],
   "source": [
    "## CREAR EL CONJUNTO DE NODOS ##\n",
    "base_operativa_ficticia=-1\n",
    "N = [i for i,d in enumerate(datos[\"data\"]) if d['nodo']==\"carga\"] # nodos de carga\n",
    "F = [i for i,d in enumerate(datos[\"data\"]) if d['nodo']==\"cargador\"] # nodos cargador\n",
    "V = list(range(len(datos[\"data\"])))+[base_operativa_ficticia] # Nodos totales\n",
    "base_operativa = [i for i,d in enumerate(datos[\"data\"]) if d['nodo']==\"parking\"][0] \n",
    "descarga = [i for i,d in enumerate(datos[\"data\"]) if d['nodo']==\"descarga\"][0] \n",
    "\n",
    "print(V);print(N);print(F);print(base_operativa);print(descarga);print(base_operativa_ficticia)\n"
   ]
  },
  {
   "cell_type": "code",
   "execution_count": 39,
   "id": "e816ada1",
   "metadata": {},
   "outputs": [
    {
     "name": "stdout",
     "output_type": "stream",
     "text": [
      "[[ 0.     6.656 14.748  9.628  9.516  5.816  2.368  3.976  5.192  7.044\n",
      "   5.132]\n",
      " [ 6.656  0.    21.096 14.672 14.864 11.148  4.584  9.212  9.152  3.504\n",
      "   9.584]\n",
      " [14.748 21.096  0.    15.136 14.272 14.324 16.52  14.808 16.508 21.74\n",
      "  12.184]\n",
      " [ 9.628 14.672 15.136  0.     0.88   3.816 11.764  5.748  5.544 12.708\n",
      "  13.22 ]\n",
      " [ 9.516 14.864 14.272  0.88   0.     3.788 11.728  5.768  5.84  13.084\n",
      "  12.824]\n",
      " [ 5.816 11.148 14.324  3.816  3.788  0.     7.96   1.98   2.564  9.676\n",
      "   9.732]\n",
      " [ 2.368  4.584 16.52  11.764 11.728  7.96   0.     6.016  6.808  5.932\n",
      "   5.44 ]\n",
      " [ 3.976  9.212 14.808  5.748  5.768  1.98   6.016  0.     1.836  7.992\n",
      "   8.4  ]\n",
      " [ 5.192  9.152 16.508  5.544  5.84   2.564  6.808  1.836  0.     7.26\n",
      "  10.004]\n",
      " [ 7.044  3.504 21.74  12.708 13.084  9.676  5.932  7.992  7.26   0.\n",
      "  11.372]\n",
      " [ 5.132  9.584 12.184 13.22  12.824  9.732  5.44   8.4   10.004 11.372\n",
      "   0.   ]]\n",
      "[  0.   0.   0.   0.   0.   0. 183. 183. 183. 192. 192.]\n"
     ]
    }
   ],
   "source": [
    "# CREACIÓN DE ARRAYS\n",
    "import numpy as np\n",
    "c_0 = np.array(datos[\"costes\"])\n",
    "w = np.array([d[\"w\"] for d in datos[\"data\"]])\n",
    "tiempos = np.array(datos[\"tiempos\"])\n",
    "distancias=np.array(datos[\"distancias\"])\n",
    "print(c_0)\n",
    "\n",
    "print(w)"
   ]
  },
  {
   "cell_type": "code",
   "execution_count": 38,
   "id": "5cb624c2",
   "metadata": {},
   "outputs": [
    {
     "name": "stdout",
     "output_type": "stream",
     "text": [
      "[ 0.     6.656 14.748  9.628  9.516  5.816  2.368  3.976  5.192 16.044\n",
      " 14.132]\n",
      "[ 6.656  0.    21.096 14.672 14.864 11.148  4.584  9.212  9.152 12.504\n",
      " 18.584]\n",
      "[14.748 21.096  0.    15.136 14.272 14.324 16.52  14.808 16.508 30.74\n",
      " 21.184]\n",
      "[ 9.628 14.672 15.136  0.     0.88   3.816 11.764  5.748  5.544 21.708\n",
      " 22.22 ]\n",
      "[ 9.516 14.864 14.272  0.88   0.     3.788 11.728  5.768  5.84  22.084\n",
      " 21.824]\n",
      "[ 5.816 11.148 14.324  3.816  3.788  0.     7.96   1.98   2.564 18.676\n",
      " 18.732]\n",
      "[ 2.368  4.584 16.52  11.764 11.728  7.96   0.     6.016  6.808 14.932\n",
      " 14.44 ]\n",
      "[ 3.976  9.212 14.808  5.748  5.768  1.98   6.016  0.     1.836 16.992\n",
      " 17.4  ]\n",
      "[ 5.192  9.152 16.508  5.544  5.84   2.564  6.808  1.836  0.    16.26\n",
      " 19.004]\n",
      "[16.044 12.504 30.74  21.708 22.084 18.676 14.932 16.992 16.26   0.\n",
      " 20.372]\n",
      "[14.132 18.584 21.184 22.22  21.824 18.732 14.44  17.4   19.004 20.372\n",
      "  0.   ]\n"
     ]
    }
   ],
   "source": [
    "# La idea es elegir los cargadores por la distancia y luego sumarles el precio de carga. Pero como tenemos en cuenta esa diferencia de precio para la elección? Pues lo tomamos\n",
    "# como si el coste de llegar a esos cargadores fuese, para los de menos coste, solo su coste real, y para los de más coste, su coste real + la diferencia de precio de carga.\n",
    "\n",
    "# Vamos a actualizar el vector de costes.\n",
    "# Tomaremos para los cargadores de ionity su coste real de llegar (por ser el mínimo)\n",
    "# Tomaremos para los cargadores de Atlante la diferencia (9) de precio de carga + el coste total\n",
    "c=[[0]*len(c_0) for _ in range(len(c_0))]\n",
    "for i in range(len(c_0)):\n",
    "    for j in range(len(c_0)):\n",
    "        if i==9 or i==10: #cargadores de Atlante\n",
    "            c[i][j]=c_0[i][j]+9\n",
    "            if j!=i:\n",
    "                c[j][i]=c_0[j][i]+9\n",
    "            else: \n",
    "                c[j][i]=c_0[j][i]\n",
    "        else:\n",
    "            c[i][j]=c_0[i][j]\n",
    "c = np.array(c)\n",
    "\n",
    "for filas in c:\n",
    "    print(filas)"
   ]
  },
  {
   "cell_type": "code",
   "execution_count": null,
   "id": "c69af530",
   "metadata": {},
   "outputs": [
    {
     "name": "stdout",
     "output_type": "stream",
     "text": [
      "Ruta: [0, 6, 1, 3, 4, 2, 5, 0]\n",
      "Coste de la distancia recorrida: 239.916\n"
     ]
    }
   ],
   "source": [
    "# ALGORITMO DEL VECINO MÁS PRÓXIMO \n",
    "no_visitados = N.copy()+ F.copy()\n",
    "cargadores= F.copy()  \n",
    "ruta = [base_operativa] # La ruta comienza en la base operativa\n",
    "posicion = base_operativa # Posición actual del vehículo\n",
    "coste_total = 0\n",
    "costes= c.copy()\n",
    "\n",
    "while no_visitados:\n",
    "    costes_posibles = {i: costes[posicion][i] for i in no_visitados}\n",
    "    if not costes_posibles:\n",
    "        break \n",
    "\n",
    "    # Encontrar el coste mínima\n",
    "    cost = min(costes_posibles.values())\n",
    "    siguiente = min(costes_posibles, key=costes_posibles.get)\n",
    "\n",
    "    # Si se selecciona un cargador, no se visitan más cargadores\n",
    "    if siguiente in cargadores:\n",
    "        no_visitados= [i for i in no_visitados if i not in cargadores]\n",
    "        cost+= 183 # coste de  carga (a los de atlante ya se le sumó 9) \n",
    "    else: \n",
    "          no_visitados.remove(siguiente)\n",
    "\n",
    "    # Actualizar la ruta\n",
    "    coste_total += cost\n",
    "    ruta.append(siguiente)\n",
    "\n",
    "    # Actualizar la posición\n",
    "    posicion = siguiente\n",
    "\n",
    "# Ir a la descarga y volver a la base operativa\n",
    "ruta.append(descarga)\n",
    "coste_total += costes[posicion][descarga] \n",
    "ruta.append(base_operativa)\n",
    "coste_total += costes[descarga][base_operativa] \n",
    "print(\"Ruta:\",ruta) \n",
    "print(\"Coste de la distancia recorrida:\", coste_total)\n"
   ]
  },
  {
   "cell_type": "code",
   "execution_count": null,
   "id": "83b25ada",
   "metadata": {},
   "outputs": [
    {
     "name": "stdout",
     "output_type": "stream",
     "text": [
      "Ruta: [0, 1, 3, 4, 2, 5, 7, 0]\n",
      "Coste de la distancia recorrida: 241.6\n"
     ]
    }
   ],
   "source": [
    "\n",
    "# La ruta que hemos hecho no tiene en cuenta si se puede ir a un cargador entre la descarga y la base operativa\n",
    "# Vamos a calcular esa ruta y ver si es mejor que la que tenemos\n",
    "no_visitados_1 = N.copy()\n",
    "ruta_1 = [base_operativa] # La ruta comienza en la base operativa\n",
    "posicion_1 = base_operativa # Posición actual del vehículo\n",
    "coste_total_1 = 0\n",
    "costes_1= c.copy()\n",
    "\n",
    "while no_visitados_1:\n",
    "    costes_posibles_1 = {i: costes_1[posicion_1][i] for i in no_visitados_1}\n",
    "    if not costes_posibles_1:\n",
    "        break \n",
    "\n",
    "    # Encontrar el coste mínimo\n",
    "    cost_1 = min(costes_posibles_1.values())\n",
    "    siguiente_1 = min(costes_posibles_1, key=costes_posibles_1.get)\n",
    "\n",
    "    # Actualizar la ruta\n",
    "    coste_total_1 += cost_1\n",
    "    ruta_1.append(siguiente_1)\n",
    "    no_visitados_1.remove(siguiente_1)\n",
    "\n",
    "    # Actualizar la posición\n",
    "    posicion_1 = siguiente_1\n",
    "\n",
    "# Ir a la descarga \n",
    "ruta_1.append(descarga)\n",
    "coste_total_1 += costes_1[posicion_1][descarga] \n",
    "\n",
    "# Visitar un cargador\n",
    "cargadores_1= F.copy()\n",
    "costes_cargadores={i: costes_1[descarga][i] for i in cargadores_1}\n",
    "\n",
    "# Encontrar el coste mínimo\n",
    "cost_2 = min(costes_cargadores.values())\n",
    "siguiente_1 = min(costes_cargadores, key=costes_cargadores.get)\n",
    "coste_total_1 += cost_2 + 183\n",
    "ruta_1.append(siguiente_1)\n",
    "\n",
    "#Volver a la base operativa\n",
    "ruta_1.append(base_operativa)\n",
    "coste_total_1 += costes_1[descarga][base_operativa] \n",
    "print(\"Ruta:\",ruta_1) \n",
    "print(\"Coste de la distancia recorrida:\", coste_total_1)\n",
    "\n",
    "\n"
   ]
  },
  {
   "cell_type": "code",
   "execution_count": null,
   "id": "de65d010",
   "metadata": {},
   "outputs": [
    {
     "name": "stdout",
     "output_type": "stream",
     "text": [
      "Ruta óptima: (0, 6, 1, 3, 4, 2, 5, 0)\n",
      "Coste mínimo: 239.916\n"
     ]
    }
   ],
   "source": [
    "rutas={tuple(ruta):coste_total, tuple(ruta_1):coste_total_1}\n",
    "ruta_optima = min(rutas, key=rutas.get)\n",
    "print(\"Ruta óptima:\", ruta_optima)\n",
    "print(\"Coste mínimo:\", rutas[ruta_optima])\n",
    "\n",
    "## NOTA: \n",
    "## Ruta exacta: [0, 6, 1, 3, 4, 2, 5, 0]\n",
    "## Coste final exacta: 235.53\n",
    "#\n",
    "## Ruta heurítica: [0, 6, 1, 3, 4, 2, 5, 0]\n",
    "## Coste final heuristica: 239.916"
   ]
  }
 ],
 "metadata": {
  "kernelspec": {
   "display_name": "base",
   "language": "python",
   "name": "python3"
  },
  "language_info": {
   "codemirror_mode": {
    "name": "ipython",
    "version": 3
   },
   "file_extension": ".py",
   "mimetype": "text/x-python",
   "name": "python",
   "nbconvert_exporter": "python",
   "pygments_lexer": "ipython3",
   "version": "3.13.5"
  }
 },
 "nbformat": 4,
 "nbformat_minor": 5
}
